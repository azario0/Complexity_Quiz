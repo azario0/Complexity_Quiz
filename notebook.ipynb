{
 "cells": [
  {
   "cell_type": "markdown",
   "id": "c659da2e",
   "metadata": {},
   "source": [
    "# Complexity 1"
   ]
  },
  {
   "cell_type": "code",
   "execution_count": 1,
   "id": "4aff06fb",
   "metadata": {},
   "outputs": [],
   "source": [
    "def loop_function(num = 2):\n",
    "    for i in range(num):\n",
    "        print(i)\n"
   ]
  },
  {
   "cell_type": "markdown",
   "id": "7d6f0f13",
   "metadata": {},
   "source": [
    "# Complexity 2"
   ]
  },
  {
   "cell_type": "code",
   "execution_count": null,
   "id": "2f0779c5",
   "metadata": {},
   "outputs": [],
   "source": [
    "def loop_function(num=3):\n",
    "    for i in range(num):\n",
    "        print(i)\n",
    "    if num > 0 :\n",
    "        loop_function(num-1)\n"
   ]
  },
  {
   "cell_type": "markdown",
   "id": "03f00d4c",
   "metadata": {},
   "source": [
    "# Complexity 3"
   ]
  },
  {
   "cell_type": "code",
   "execution_count": null,
   "id": "0bfe7cce",
   "metadata": {},
   "outputs": [],
   "source": [
    "def loop_function(num=3):\n",
    "    for i in range(num):\n",
    "        print(i)\n",
    "    if num > 0 :\n",
    "        loop_function_2(num-1)\n",
    "\n",
    "def loop_function_2(num):\n",
    "    for i in range(num):\n",
    "        loop_function(num-1)\n"
   ]
  },
  {
   "cell_type": "code",
   "execution_count": null,
   "id": "b1743412",
   "metadata": {},
   "outputs": [],
   "source": [
    "import google.generativeai as genai\n",
    "api_key = 'API_KEY'\n",
    "genai.configure(api_key=api_key)"
   ]
  },
  {
   "cell_type": "code",
   "execution_count": null,
   "id": "e4f12635",
   "metadata": {},
   "outputs": [
    {
     "name": "stdout",
     "output_type": "stream",
     "text": [
      "Gemini Response:\n",
      "```json\n",
      "{\n",
      "  \"code\": \"def func_A(n):\\n    # This function counts iterations and calls func_B based on 'n'\\n    iterations_in_A = 0\\n    for i in range(n):\\n        iterations_in_A += 1\\n        if i % 2 == 0 and n > 0:\\n            # Recursive call to func_B, passing n-1\\n            iterations_in_A += func_B(n - 1)\\n    return iterations_in_A\\n\\ndef func_B(n):\\n    # This function counts iterations and calls func_A based on 'n'\\n    iterations_in_B = 0\\n    for j in range(n // 2):\\n        iterations_in_B += 1\\n        if j == 0 and n > 0:\\n            # Recursive call to func_A, passing n-2\\n            iterations_in_B += func_A(n - 2)\\n    return iterations_in_B\\n\\n# Start the process with an initial call\\n# We are interested in the total iterations when func_A(4) is called.\\nfunc_A(4)\",\n",
      "  \"choices\": [4, 8, 12],\n",
      "  \"correct_choice\": 8\n",
      "}\n",
      "```\n"
     ]
    }
   ],
   "source": [
    "def prompt_engineering(complexity: int) -> str:\n",
    "    return f\"\"\"\n",
    "You are an expert Python teacher. A student selects a complexity level, and your task is to create a learning exercise.\n",
    "### Instructions:\n",
    "1. Generate the Python code that corresponds exactly to the chosen complexity level: {complexity}.\n",
    "2. Calculate the **total number of iterations** executed by the code when run with the default or given `num` parameter.\n",
    "3. Provide **three multiple-choice options** for the number of iterations:   - One option must be the correct number.   - Two options must be plausible but incorrect.\n",
    "4. Return the answer **only in JSON format**, with the following structure:\n",
    "{{\n",
    "  \"code\": \"Python code as a string\",\n",
    "  \"choices\": [int, int, int],\n",
    "  \"correct_choice\": int\n",
    "}}\n",
    "### Notes:\n",
    "- \"code\" should contain the full Python function(s) for the chosen complexity.\n",
    "- \"choices\" should contain exactly three integer values.\n",
    "- \"correct_choice\" must match one of the integers in \"choices\".\n",
    "- Do not include any explanation or text outside the JSON.\n",
    "- Focus only on the requested complexity level: {complexity}.\n",
    "\n",
    "### Examples of complexity levels:\n",
    "**Complexity 1**\n",
    "def loop_function(num):\n",
    "    for i in range(num):\n",
    "    print(i)\n",
    "loop_function(num =3)\n",
    "Total iterations = 3\n",
    "**Complexity 2**\n",
    "def loop_function(num = 2):\n",
    "    for i in range(num):\n",
    "        print(i)\n",
    "    if num > 0:\n",
    "        loop_function(num-1)\n",
    "loop_function(num =3)\n",
    "Total iterations = 6\n",
    "**Complexity 3**\n",
    "def loop_function(num = 2):\n",
    "    for i in range(num):\n",
    "        print(i)\n",
    "    if num > 0:\n",
    "        loop_function_2(num-1)\n",
    "def loop_function_2(num):\n",
    "    for i in range(num):\n",
    "        loop_function(num-1)\n",
    "loop_function(num =3)\n",
    "Total iterations = 5\n",
    "Follow the steps carefully and return only the JSON object.\n",
    "    \"\"\"\n",
    "\n",
    "\n",
    "\n",
    "model_name = \"gemini-2.5-flash\"\n",
    "\n",
    "response = genai.GenerativeModel(model_name).generate_content(prompt_engineering(3))\n",
    "print(\"Gemini Response:\")\n",
    "print(response.text)"
   ]
  },
  {
   "cell_type": "code",
   "execution_count": null,
   "id": "b65b8a04",
   "metadata": {},
   "outputs": [],
   "source": []
  }
 ],
 "metadata": {
  "kernelspec": {
   "display_name": "Python 3",
   "language": "python",
   "name": "python3"
  },
  "language_info": {
   "codemirror_mode": {
    "name": "ipython",
    "version": 3
   },
   "file_extension": ".py",
   "mimetype": "text/x-python",
   "name": "python",
   "nbconvert_exporter": "python",
   "pygments_lexer": "ipython3",
   "version": "3.12.3"
  }
 },
 "nbformat": 4,
 "nbformat_minor": 5
}
